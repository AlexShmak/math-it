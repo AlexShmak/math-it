{
 "cells": [
  {
   "cell_type": "code",
   "execution_count": null,
   "metadata": {},
   "outputs": [],
   "source": [
    "import numpy as np\n",
    "from PIL import Image"
   ]
  },
  {
   "cell_type": "code",
   "execution_count": null,
   "metadata": {},
   "outputs": [],
   "source": [
    "image_path = \"images/luntik.bmp\"\n",
    "image = Image.open(image_path)\n",
    "\n",
    "width, height = image.size\n",
    "red, green ,blue = zip(*image.getdata())"
   ]
  },
  {
   "cell_type": "code",
   "execution_count": null,
   "metadata": {},
   "outputs": [],
   "source": [
    "def svd_compression(color_matrix,N):\n",
    "    A = np.array(color_matrix) # color_matrix\n",
    "\n",
    "    ATA = np.dot(A.T,A)\n",
    "    \n",
    "    eigvals, eigvecs = np.linalg.eig(ATA)\n",
    "    \n",
    "    singular_values = np.sqrt(eigvals)\n",
    "    singular_values_sorted = np.sorted = np.sort(singular_values)[::-1]\n",
    "    \n",
    "    V = eigvecs\n",
    "    \n",
    "    U = np.dot(A,V) / singular_values_sorted\n",
    "    \n",
    "    S = np.dot(U.T,np.dot(A,V))\n",
    "\n",
    "    compressed_U = np.asarray(U)[:,:N]\n",
    "    compressed_S =np.round(np.asarray(S)[:N,:N],decimals=5)\n",
    "    compressed_Vt = np.asarray(V.T)[:N,:]\n",
    "\n",
    "    return compressed_U, compressed_S, compressed_Vt\n"
   ]
  },
  {
   "cell_type": "code",
   "execution_count": null,
   "metadata": {},
   "outputs": [],
   "source": [
    "red_m = [red[i*width:i*width + width] for i in range(height)]\n",
    "green_m = [green[i*width:i*width + width] for i in range(height)]\n",
    "blue_m = [blue[i*width:i*width + width] for i in range(height)]"
   ]
  },
  {
   "cell_type": "code",
   "execution_count": null,
   "metadata": {},
   "outputs": [],
   "source": [
    "def new_matrix(red, green, blue):\n",
    "    r_f = np.array(red).flatten()\n",
    "    g_f = np.array(green).flatten()\n",
    "    b_f = np.array(blue).flatten()\n",
    "\n",
    "    new_pixels = list(zip(np.rint(r_f).astype(int), np.rint(g_f).astype(int), np.rint(b_f).astype(int)))\n",
    "    \n",
    "    image = Image.new(\"RGB\", (width, height))\n",
    "    image.putdata(new_pixels)\n",
    "\n",
    "    image.save(\"images/compressed_primitive.bmp\")\n",
    "\n",
    "    return image"
   ]
  },
  {
   "cell_type": "code",
   "execution_count": null,
   "metadata": {},
   "outputs": [],
   "source": [
    "def mult(A,B,C):\n",
    "    return np.real(np.dot(A,np.dot(B,C)))"
   ]
  },
  {
   "cell_type": "code",
   "execution_count": null,
   "metadata": {},
   "outputs": [],
   "source": [
    "N = 100\n",
    "\n",
    "r = mult(*svd_compression(red_m, N))\n",
    "g = mult(*svd_compression(green_m, N))\n",
    "b = mult(*svd_compression(blue_m, N))"
   ]
  },
  {
   "cell_type": "code",
   "execution_count": null,
   "metadata": {},
   "outputs": [],
   "source": [
    "new_matrix(r,g,b)"
   ]
  },
  {
   "cell_type": "code",
   "execution_count": null,
   "metadata": {},
   "outputs": [],
   "source": [
    "import saver\n",
    "\n",
    "rn = svd_compression(r,N)\n",
    "gn = svd_compression(g,N)\n",
    "bn = svd_compression(b,N)\n",
    "\n",
    "name = \"middle_repr_primitive\"\n",
    "\n",
    "saver.create(name,width,height,N)\n",
    "saver.write_matrices(name,rn,gn,bn)\n",
    "print(saver.file_size(name))"
   ]
  }
 ],
 "metadata": {
  "kernelspec": {
   "display_name": ".venv",
   "language": "python",
   "name": "python3"
  },
  "language_info": {
   "codemirror_mode": {
    "name": "ipython",
    "version": 3
   },
   "file_extension": ".py",
   "mimetype": "text/x-python",
   "name": "python",
   "nbconvert_exporter": "python",
   "pygments_lexer": "ipython3",
   "version": "3.11.7"
  }
 },
 "nbformat": 4,
 "nbformat_minor": 2
}
