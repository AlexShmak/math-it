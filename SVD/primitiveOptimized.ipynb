{
 "cells": [
  {
   "cell_type": "code",
   "execution_count": 1,
   "metadata": {},
   "outputs": [],
   "source": [
    "import numpy as np"
   ]
  },
  {
   "cell_type": "code",
   "execution_count": null,
   "metadata": {},
   "outputs": [],
   "source": [
    "def power_svd(A, num_iterations=10):\n",
    "    \"\"\"\n",
    "    Compute the Singular Value Decomposition (SVD) of matrix A using Power Iteration method.\n",
    "    \"\"\"\n",
    "    m, n = A.shape\n",
    "    r = min(m, n)  # Rank of the approximation\n",
    "\n",
    "    # Initialize random unit vectors for power iteration\n",
    "    U = np.random.rand(m, r)\n",
    "    Vt = np.random.rand(r, n)\n",
    "\n",
    "    for _ in range(num_iterations):\n",
    "        # Compute the matrix-vector products\n",
    "        UtA = U.T @ A\n",
    "        AVt = A @ Vt\n",
    "\n",
    "        # Update U and Vt using the products\n",
    "        U = UtA @ Vt.T\n",
    "        Vt = AVt.T\n",
    "\n",
    "        # Perform QR decomposition to orthogonalize U and Vt\n",
    "        Q, R = np.linalg.qr(U)\n",
    "        U = Q\n",
    "        Q, R = np.linalg.qr(Vt)\n",
    "        Vt = Q.T\n",
    "\n",
    "    # Compute the singular values from the diagonal of the matrix S\n",
    "    S = U.T @ A @ Vt\n",
    "\n",
    "    return U, S, Vt"
   ]
  },
  {
   "cell_type": "code",
   "execution_count": null,
   "metadata": {},
   "outputs": [],
   "source": []
  }
 ],
 "metadata": {
  "kernelspec": {
   "display_name": ".venv",
   "language": "python",
   "name": "python3"
  },
  "language_info": {
   "codemirror_mode": {
    "name": "ipython",
    "version": 3
   },
   "file_extension": ".py",
   "mimetype": "text/x-python",
   "name": "python",
   "nbconvert_exporter": "python",
   "pygments_lexer": "ipython3",
   "version": "3.11.7"
  }
 },
 "nbformat": 4,
 "nbformat_minor": 2
}
